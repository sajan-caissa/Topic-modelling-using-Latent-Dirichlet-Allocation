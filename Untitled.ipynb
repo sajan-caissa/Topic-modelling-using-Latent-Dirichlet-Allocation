{
 "cells": [
  {
   "cell_type": "code",
   "execution_count": 1,
   "metadata": {},
   "outputs": [
    {
     "name": "stderr",
     "output_type": "stream",
     "text": [
      "C:\\Users\\SAJAN\\Anaconda3\\lib\\site-packages\\gensim-3.4.0-py3.6-win-amd64.egg\\gensim\\utils.py:1197: UserWarning: detected Windows; aliasing chunkize to chunkize_serial\n",
      "  warnings.warn(\"detected Windows; aliasing chunkize to chunkize_serial\")\n"
     ]
    }
   ],
   "source": [
    "import os\n",
    "import pandas as pd\n",
    "import nltk\n",
    "import pickle as pkl\n",
    "import re, string\n",
    "#import unicodedata\n",
    "import gensim\n",
    "from gensim import corpora, models, similarities \n",
    "from collections import Counter\n",
    "from sklearn import datasets"
   ]
  },
  {
   "cell_type": "code",
   "execution_count": 2,
   "metadata": {},
   "outputs": [
    {
     "name": "stdout",
     "output_type": "stream",
     "text": [
      "['business', 'entertainment', 'politics', 'sport', 'tech']\n"
     ]
    }
   ],
   "source": [
    "DATA_DIR = os.getcwd()+'\\\\bbc'  #Windows's dir delimiter\n",
    "#subdir are CATEGORIES = ['business', 'entertainment', 'politics', 'sport', 'tech']\n",
    "CATEGORIES = os.listdir(path='./bbc')\n",
    "\n",
    "#print(DATA_DIR)\n",
    "print(CATEGORIES)"
   ]
  },
  {
   "cell_type": "code",
   "execution_count": 3,
   "metadata": {},
   "outputs": [],
   "source": [
    "#This will load all articles into a list of articles.\n",
    "raw_text = datasets.load_files(DATA_DIR,\n",
    "    categories=CATEGORIES, encoding=\"Latin-1\")"
   ]
  },
  {
   "cell_type": "code",
   "execution_count": 4,
   "metadata": {},
   "outputs": [
    {
     "data": {
      "text/plain": [
       "'Tate & Lyle boss bags top award\\n\\nTate & Lyle\\'s chief executive has been named European Businessman of the Year by a leading business magazine.\\n\\nIain Ferguson was awarded the title by US publication Forbes for returning one of the UK\\'s \"venerable\" manufacturers to the country\\'s top 100 companies. The sugar group had been absent from the FTSE 100 for seven years until Mr Ferguson helped it return to growth. Tate\\'s shares have leapt 55% this year, boosted by firming sugar prices and sales of its artificial sweeteners.\\n\\n\"After years of a sagging stock price and a seven-year hiatus from the FTSE 100, one of Britain\\'s venerable manufacturers has returned to the vaunted index,\" Forbes said. Mr Ferguson took the helm at the company in 2003, after spending most of his career at consumer goods giant Unilever. Tate & Lyle, which was an original member of the historic FT-30 index in 1935, operates more than 41 factories and 20 more additional production facilities in 28 countries. Previous winners of the Forbes award include Royal Bank of Scotland chief executive Fred Goodwin and former Vodafone boss Chris Gent.\\n'"
      ]
     },
     "execution_count": 4,
     "metadata": {},
     "output_type": "execute_result"
    }
   ],
   "source": [
    "#Let see the content of few articles\n",
    "raw_text.data[0]"
   ]
  },
  {
   "cell_type": "code",
   "execution_count": 6,
   "metadata": {},
   "outputs": [
    {
     "data": {
      "text/plain": [
       "'sport'"
      ]
     },
     "execution_count": 6,
     "metadata": {},
     "output_type": "execute_result"
    }
   ],
   "source": [
    "raw_text.target_names[3]\n"
   ]
  },
  {
   "cell_type": "code",
   "execution_count": 7,
   "metadata": {},
   "outputs": [
    {
     "data": {
      "text/plain": [
       "'Pavey focuses on indoor success\\n\\nJo Pavey will miss January\\'s View From Great Edinburgh International Cross Country to focus on preparing for the European Indoor Championships in March.\\n\\nThe 31-year-old was third behind Hayley Yelling and Justyna Bak in last week\\'s European Cross Country Championships but she prefers to race on the track. \"It was great winning bronze but I\\'m wary of injuries and must concentrate on the indoor season,\" she said. \"Because of previous injuries I don\\'t even run up hills in training.\" Pavey, who came fifth in the 5,000m at the Athens Olympics, helped the British cross country team win the team silver medal in Heringsdorf last week. She is likely to start her 3,000m season with a race in either Boston or Stuttgart at the end of January.\\n'"
      ]
     },
     "execution_count": 7,
     "metadata": {},
     "output_type": "execute_result"
    }
   ],
   "source": [
    "raw_text.data[3]\n"
   ]
  },
  {
   "cell_type": "code",
   "execution_count": 9,
   "metadata": {},
   "outputs": [
    {
     "data": {
      "text/plain": [
       "'entertainment'"
      ]
     },
     "execution_count": 9,
     "metadata": {},
     "output_type": "execute_result"
    }
   ],
   "source": [
    "raw_text.target_names[1]"
   ]
  },
  {
   "cell_type": "code",
   "execution_count": 10,
   "metadata": {},
   "outputs": [
    {
     "data": {
      "text/plain": [
       "\"Halo 2 sells five million copies\\n\\nMicrosoft is celebrating bumper sales of its Xbox sci-fi shooter, Halo 2.\\n\\nThe game has sold more than five million copies worldwide since it went on sale in mid-November, the company said. Halo 2 has proved popular online, with gamers notching up a record 28 million hours playing the game on Xbox Live. According to Microsoft, nine out of 10 Xbox Live members have played the game for an average of 91 minutes per session.\\n\\nThe sequel to the best-selling Need for Speed: Underground has inched ahead of the competition to take the top slot in the official UK games charts. The racing game moved up one spot to first place, nudging GTA: San Andreas down to second place. Halo 2 dropped one place to five, while Half-Life 2 fell to number nine. Last week's new releases, GoldenEye: Rogue Agent and Killzone, both failed to make it into the top 10, debuting at number 11 and 12 respectively.\\n\\nRecord numbers of Warcraft fans are settling in the games online world. On the opening day of the World of Warcraft massive multi-player online game more than 200,000 players signed up to play. On the evening of the first day more than 100,000 players were in the world, forcing Blizzard to add another 34 servers to cope with the influx. The online game turns the stand alone Warcraft games into a persistent world that players can inhabit not just visit\\n\\nEurope's gamers could be waiting until January to hear when they can get their mitts on Nintendo's handheld device, Nintendo DS, says gamesindustry.biz. David Yarnton, Nintendo UK general manager, told a press conference to look out for details in the New Year. Its US launch was on Sunday and it goes on sale in Japan on 2 December. Nintendo has a 95% share of the handheld gaming market and said it expected to sell around five million of the DS by March 2005.\\n\""
      ]
     },
     "execution_count": 10,
     "metadata": {},
     "output_type": "execute_result"
    }
   ],
   "source": [
    "raw_text.data[1]"
   ]
  },
  {
   "cell_type": "code",
   "execution_count": 11,
   "metadata": {},
   "outputs": [
    {
     "data": {
      "text/plain": [
       "'politics'"
      ]
     },
     "execution_count": 11,
     "metadata": {},
     "output_type": "execute_result"
    }
   ],
   "source": [
    "raw_text.target_names[2]"
   ]
  },
  {
   "cell_type": "code",
   "execution_count": 12,
   "metadata": {},
   "outputs": [
    {
     "data": {
      "text/plain": [
       "'MSPs hear renewed climate warning\\n\\nClimate change could be completely out of control within several decades, the Scottish Environment Protection Agency is warning a committee of MSPs.\\n\\nExperts are giving evidence on the subject to the Scottish Parliament\\'s environment committee. Officials believe nuclear energy and wind farms may be better options than trying to tackle global warming. Solutions suggested by conservationists include reducing internal UK air travel and boosting electric trains. The evidence is part of the committee\\'s inquiry into the impact of climate change in Scotland. Sepa is attempting to curb global warming gases, as pollution from transport emissions increases.\\n\\nEcologists are warning MSPs that Scotland may have to accept \"significant intrusion\" from wind farms. It is likely also that nuclear power will be needed for possibly several decades. Sepa predict that the two methods will remain as energy sources until climate change is under control. Experts studying the seas off Scotland\\'s west coast have already forecast more devastating weather of the type which caused havoc across the country last month.\\n\\nThey predicted that damaging storms will become more frequent. Researchers from the University of the Highlands and Islands and Southampton have been looking at wave heights in the Atlantic over the last nine years. The project was conducted jointly by the Environmental Research Institute in Thurso, which is part of the University of the Highlands and Islands (UHI) Millennium Institute network, and the Southampton Oceanography Centre. Scientists carried out a series of studies, including the use of satellites to assess wave heights in the seas around the west coast and the Hebrides.\\n'"
      ]
     },
     "execution_count": 12,
     "metadata": {},
     "output_type": "execute_result"
    }
   ],
   "source": [
    "raw_text.data[2]"
   ]
  },
  {
   "cell_type": "code",
   "execution_count": 13,
   "metadata": {},
   "outputs": [
    {
     "data": {
      "text/plain": [
       "2225"
      ]
     },
     "execution_count": 13,
     "metadata": {},
     "output_type": "execute_result"
    }
   ],
   "source": [
    "#there are 2225 text/news extracted, matches the dataset total files\n",
    "len(raw_text.data)"
   ]
  },
  {
   "cell_type": "code",
   "execution_count": 14,
   "metadata": {},
   "outputs": [],
   "source": [
    "#Save all text files to .plk for faster reload next time\n",
    "pkl.dump(raw_text.data, open('raw_text.pkl','wb'))\n"
   ]
  },
  {
   "cell_type": "code",
   "execution_count": 15,
   "metadata": {},
   "outputs": [],
   "source": [
    "raw_text_df = pd.DataFrame(raw_text.data,columns=['raw_text'])"
   ]
  },
  {
   "cell_type": "code",
   "execution_count": 16,
   "metadata": {},
   "outputs": [
    {
     "data": {
      "text/plain": [
       "'Pavey focuses on indoor success\\n\\nJo Pavey will miss January\\'s View From Great Edinburgh International Cross Country to focus on preparing for the European Indoor Championships in March.\\n\\nThe 31-year-old was third behind Hayley Yelling and Justyna Bak in last week\\'s European Cross Country Championships but she prefers to race on the track. \"It was great winning bronze but I\\'m wary of injuries and must concentrate on the indoor season,\" she said. \"Because of previous injuries I don\\'t even run up hills in training.\" Pavey, who came fifth in the 5,000m at the Athens Olympics, helped the British cross country team win the team silver medal in Heringsdorf last week. She is likely to start her 3,000m season with a race in either Boston or Stuttgart at the end of January.\\n'"
      ]
     },
     "execution_count": 16,
     "metadata": {},
     "output_type": "execute_result"
    }
   ],
   "source": [
    "raw_text.data[3]"
   ]
  },
  {
   "cell_type": "code",
   "execution_count": 17,
   "metadata": {},
   "outputs": [
    {
     "data": {
      "text/plain": [
       "'MSPs hear renewed climate warning\\n\\nClimate change could be completely out of control within several decades, the Scottish Environment Protection Agency is warning a committee of MSPs.\\n\\nExperts are giving evidence on the subject to the Scottish Parliament\\'s environment committee. Officials believe nuclear energy and wind farms may be better options than trying to tackle global warming. Solutions suggested by conservationists include reducing internal UK air travel and boosting electric trains. The evidence is part of the committee\\'s inquiry into the impact of climate change in Scotland. Sepa is attempting to curb global warming gases, as pollution from transport emissions increases.\\n\\nEcologists are warning MSPs that Scotland may have to accept \"significant intrusion\" from wind farms. It is likely also that nuclear power will be needed for possibly several decades. Sepa predict that the two methods will remain as energy sources until climate change is under control. Experts studying the seas off Scotland\\'s west coast have already forecast more devastating weather of the type which caused havoc across the country last month.\\n\\nThey predicted that damaging storms will become more frequent. Researchers from the University of the Highlands and Islands and Southampton have been looking at wave heights in the Atlantic over the last nine years. The project was conducted jointly by the Environmental Research Institute in Thurso, which is part of the University of the Highlands and Islands (UHI) Millennium Institute network, and the Southampton Oceanography Centre. Scientists carried out a series of studies, including the use of satellites to assess wave heights in the seas around the west coast and the Hebrides.\\n'"
      ]
     },
     "execution_count": 17,
     "metadata": {},
     "output_type": "execute_result"
    }
   ],
   "source": [
    "raw_text.data[2]"
   ]
  },
  {
   "cell_type": "code",
   "execution_count": 18,
   "metadata": {},
   "outputs": [],
   "source": [
    "clean_list= re.sub(\"[^a-zA-Z]\", \" \", raw_text.data[1].lower().strip())"
   ]
  },
  {
   "cell_type": "code",
   "execution_count": 19,
   "metadata": {},
   "outputs": [
    {
     "data": {
      "text/plain": [
       "['halo',\n",
       " '',\n",
       " '',\n",
       " 'sells',\n",
       " 'five',\n",
       " 'million',\n",
       " 'copies',\n",
       " '',\n",
       " 'microsoft',\n",
       " 'is',\n",
       " 'celebrating',\n",
       " 'bumper',\n",
       " 'sales',\n",
       " 'of',\n",
       " 'its',\n",
       " 'xbox',\n",
       " 'sci',\n",
       " 'fi',\n",
       " 'shooter',\n",
       " '',\n",
       " 'halo',\n",
       " '',\n",
       " '',\n",
       " '',\n",
       " '',\n",
       " 'the',\n",
       " 'game',\n",
       " 'has',\n",
       " 'sold',\n",
       " 'more',\n",
       " 'than',\n",
       " 'five',\n",
       " 'million',\n",
       " 'copies',\n",
       " 'worldwide',\n",
       " 'since',\n",
       " 'it',\n",
       " 'went',\n",
       " 'on',\n",
       " 'sale',\n",
       " 'in',\n",
       " 'mid',\n",
       " 'november',\n",
       " '',\n",
       " 'the',\n",
       " 'company',\n",
       " 'said',\n",
       " '',\n",
       " 'halo',\n",
       " '',\n",
       " '',\n",
       " 'has',\n",
       " 'proved',\n",
       " 'popular',\n",
       " 'online',\n",
       " '',\n",
       " 'with',\n",
       " 'gamers',\n",
       " 'notching',\n",
       " 'up',\n",
       " 'a',\n",
       " 'record',\n",
       " '',\n",
       " '',\n",
       " '',\n",
       " 'million',\n",
       " 'hours',\n",
       " 'playing',\n",
       " 'the',\n",
       " 'game',\n",
       " 'on',\n",
       " 'xbox',\n",
       " 'live',\n",
       " '',\n",
       " 'according',\n",
       " 'to',\n",
       " 'microsoft',\n",
       " '',\n",
       " 'nine',\n",
       " 'out',\n",
       " 'of',\n",
       " '',\n",
       " '',\n",
       " '',\n",
       " 'xbox',\n",
       " 'live',\n",
       " 'members',\n",
       " 'have',\n",
       " 'played',\n",
       " 'the',\n",
       " 'game',\n",
       " 'for',\n",
       " 'an',\n",
       " 'average',\n",
       " 'of',\n",
       " '',\n",
       " '',\n",
       " '',\n",
       " 'minutes',\n",
       " 'per',\n",
       " 'session',\n",
       " '',\n",
       " '',\n",
       " 'the',\n",
       " 'sequel',\n",
       " 'to',\n",
       " 'the',\n",
       " 'best',\n",
       " 'selling',\n",
       " 'need',\n",
       " 'for',\n",
       " 'speed',\n",
       " '',\n",
       " 'underground',\n",
       " 'has',\n",
       " 'inched',\n",
       " 'ahead',\n",
       " 'of',\n",
       " 'the',\n",
       " 'competition',\n",
       " 'to',\n",
       " 'take',\n",
       " 'the',\n",
       " 'top',\n",
       " 'slot',\n",
       " 'in',\n",
       " 'the',\n",
       " 'official',\n",
       " 'uk',\n",
       " 'games',\n",
       " 'charts',\n",
       " '',\n",
       " 'the',\n",
       " 'racing',\n",
       " 'game',\n",
       " 'moved',\n",
       " 'up',\n",
       " 'one',\n",
       " 'spot',\n",
       " 'to',\n",
       " 'first',\n",
       " 'place',\n",
       " '',\n",
       " 'nudging',\n",
       " 'gta',\n",
       " '',\n",
       " 'san',\n",
       " 'andreas',\n",
       " 'down',\n",
       " 'to',\n",
       " 'second',\n",
       " 'place',\n",
       " '',\n",
       " 'halo',\n",
       " '',\n",
       " '',\n",
       " 'dropped',\n",
       " 'one',\n",
       " 'place',\n",
       " 'to',\n",
       " 'five',\n",
       " '',\n",
       " 'while',\n",
       " 'half',\n",
       " 'life',\n",
       " '',\n",
       " '',\n",
       " 'fell',\n",
       " 'to',\n",
       " 'number',\n",
       " 'nine',\n",
       " '',\n",
       " 'last',\n",
       " 'week',\n",
       " 's',\n",
       " 'new',\n",
       " 'releases',\n",
       " '',\n",
       " 'goldeneye',\n",
       " '',\n",
       " 'rogue',\n",
       " 'agent',\n",
       " 'and',\n",
       " 'killzone',\n",
       " '',\n",
       " 'both',\n",
       " 'failed',\n",
       " 'to',\n",
       " 'make',\n",
       " 'it',\n",
       " 'into',\n",
       " 'the',\n",
       " 'top',\n",
       " '',\n",
       " '',\n",
       " '',\n",
       " '',\n",
       " 'debuting',\n",
       " 'at',\n",
       " 'number',\n",
       " '',\n",
       " '',\n",
       " '',\n",
       " 'and',\n",
       " '',\n",
       " '',\n",
       " '',\n",
       " 'respectively',\n",
       " '',\n",
       " '',\n",
       " 'record',\n",
       " 'numbers',\n",
       " 'of',\n",
       " 'warcraft',\n",
       " 'fans',\n",
       " 'are',\n",
       " 'settling',\n",
       " 'in',\n",
       " 'the',\n",
       " 'games',\n",
       " 'online',\n",
       " 'world',\n",
       " '',\n",
       " 'on',\n",
       " 'the',\n",
       " 'opening',\n",
       " 'day',\n",
       " 'of',\n",
       " 'the',\n",
       " 'world',\n",
       " 'of',\n",
       " 'warcraft',\n",
       " 'massive',\n",
       " 'multi',\n",
       " 'player',\n",
       " 'online',\n",
       " 'game',\n",
       " 'more',\n",
       " 'than',\n",
       " '',\n",
       " '',\n",
       " '',\n",
       " '',\n",
       " '',\n",
       " '',\n",
       " '',\n",
       " '',\n",
       " 'players',\n",
       " 'signed',\n",
       " 'up',\n",
       " 'to',\n",
       " 'play',\n",
       " '',\n",
       " 'on',\n",
       " 'the',\n",
       " 'evening',\n",
       " 'of',\n",
       " 'the',\n",
       " 'first',\n",
       " 'day',\n",
       " 'more',\n",
       " 'than',\n",
       " '',\n",
       " '',\n",
       " '',\n",
       " '',\n",
       " '',\n",
       " '',\n",
       " '',\n",
       " '',\n",
       " 'players',\n",
       " 'were',\n",
       " 'in',\n",
       " 'the',\n",
       " 'world',\n",
       " '',\n",
       " 'forcing',\n",
       " 'blizzard',\n",
       " 'to',\n",
       " 'add',\n",
       " 'another',\n",
       " '',\n",
       " '',\n",
       " '',\n",
       " 'servers',\n",
       " 'to',\n",
       " 'cope',\n",
       " 'with',\n",
       " 'the',\n",
       " 'influx',\n",
       " '',\n",
       " 'the',\n",
       " 'online',\n",
       " 'game',\n",
       " 'turns',\n",
       " 'the',\n",
       " 'stand',\n",
       " 'alone',\n",
       " 'warcraft',\n",
       " 'games',\n",
       " 'into',\n",
       " 'a',\n",
       " 'persistent',\n",
       " 'world',\n",
       " 'that',\n",
       " 'players',\n",
       " 'can',\n",
       " 'inhabit',\n",
       " 'not',\n",
       " 'just',\n",
       " 'visit',\n",
       " '',\n",
       " 'europe',\n",
       " 's',\n",
       " 'gamers',\n",
       " 'could',\n",
       " 'be',\n",
       " 'waiting',\n",
       " 'until',\n",
       " 'january',\n",
       " 'to',\n",
       " 'hear',\n",
       " 'when',\n",
       " 'they',\n",
       " 'can',\n",
       " 'get',\n",
       " 'their',\n",
       " 'mitts',\n",
       " 'on',\n",
       " 'nintendo',\n",
       " 's',\n",
       " 'handheld',\n",
       " 'device',\n",
       " '',\n",
       " 'nintendo',\n",
       " 'ds',\n",
       " '',\n",
       " 'says',\n",
       " 'gamesindustry',\n",
       " 'biz',\n",
       " '',\n",
       " 'david',\n",
       " 'yarnton',\n",
       " '',\n",
       " 'nintendo',\n",
       " 'uk',\n",
       " 'general',\n",
       " 'manager',\n",
       " '',\n",
       " 'told',\n",
       " 'a',\n",
       " 'press',\n",
       " 'conference',\n",
       " 'to',\n",
       " 'look',\n",
       " 'out',\n",
       " 'for',\n",
       " 'details',\n",
       " 'in',\n",
       " 'the',\n",
       " 'new',\n",
       " 'year',\n",
       " '',\n",
       " 'its',\n",
       " 'us',\n",
       " 'launch',\n",
       " 'was',\n",
       " 'on',\n",
       " 'sunday',\n",
       " 'and',\n",
       " 'it',\n",
       " 'goes',\n",
       " 'on',\n",
       " 'sale',\n",
       " 'in',\n",
       " 'japan',\n",
       " 'on',\n",
       " '',\n",
       " '',\n",
       " 'december',\n",
       " '',\n",
       " 'nintendo',\n",
       " 'has',\n",
       " 'a',\n",
       " '',\n",
       " '',\n",
       " '',\n",
       " '',\n",
       " 'share',\n",
       " 'of',\n",
       " 'the',\n",
       " 'handheld',\n",
       " 'gaming',\n",
       " 'market',\n",
       " 'and',\n",
       " 'said',\n",
       " 'it',\n",
       " 'expected',\n",
       " 'to',\n",
       " 'sell',\n",
       " 'around',\n",
       " 'five',\n",
       " 'million',\n",
       " 'of',\n",
       " 'the',\n",
       " 'ds',\n",
       " 'by',\n",
       " 'march',\n",
       " '',\n",
       " '',\n",
       " '',\n",
       " '',\n",
       " '',\n",
       " '']"
      ]
     },
     "execution_count": 19,
     "metadata": {},
     "output_type": "execute_result"
    }
   ],
   "source": [
    "clean_list.split(\" \")"
   ]
  },
  {
   "cell_type": "code",
   "execution_count": 20,
   "metadata": {},
   "outputs": [
    {
     "name": "stdout",
     "output_type": "stream",
     "text": [
      "['a', 'about', 'above', 'after', 'again', 'against', 'ain', 'all', 'am', 'an', 'and', 'any', 'are', 'aren', \"aren't\", 'as', 'at', 'be', 'because', 'been', 'before', 'being', 'below', 'between', 'both', 'but', 'by', 'can', 'couldn', \"couldn't\", 'd', 'did', 'didn', \"didn't\", 'do', 'does', 'doesn', \"doesn't\", 'doing', 'don', \"don't\", 'down', 'during', 'each', 'few', 'for', 'from', 'further', 'had', 'hadn', \"hadn't\", 'has', 'hasn', \"hasn't\", 'have', 'haven', \"haven't\", 'having', 'he', 'her', 'here', 'hers', 'herself', 'him', 'himself', 'his', 'how', 'i', 'if', 'in', 'into', 'is', 'isn', \"isn't\", 'it', \"it's\", 'its', 'itself', 'just', 'll', 'm', 'ma', 'me', 'mightn', \"mightn't\", 'more', 'most', 'mustn', \"mustn't\", 'my', 'myself', 'needn', \"needn't\", 'no', 'nor', 'not', 'now', 'o', 'of', 'off', 'on', 'once', 'only', 'or', 'other', 'our', 'ours', 'ourselves', 'out', 'over', 'own', 're', 's', 'same', 'shan', \"shan't\", 'she', \"she's\", 'should', \"should've\", 'shouldn', \"shouldn't\", 'so', 'some', 'such', 't', 'than', 'that', \"that'll\", 'the', 'their', 'theirs', 'them', 'themselves', 'then', 'there', 'these', 'they', 'this', 'those', 'through', 'to', 'too', 'under', 'until', 'up', 've', 'very', 'was', 'wasn', \"wasn't\", 'we', 'were', 'weren', \"weren't\", 'what', 'when', 'where', 'which', 'while', 'who', 'whom', 'why', 'will', 'with', 'won', \"won't\", 'wouldn', \"wouldn't\", 'y', 'you', \"you'd\", \"you'll\", \"you're\", \"you've\", 'your', 'yours', 'yourself', 'yourselves']\n"
     ]
    }
   ],
   "source": [
    "stopwords = nltk.corpus.stopwords.words('english')\n",
    "print(sorted(stopwords))\n"
   ]
  },
  {
   "cell_type": "code",
   "execution_count": 21,
   "metadata": {},
   "outputs": [
    {
     "name": "stdout",
     "output_type": "stream",
     "text": [
      "[]\n"
     ]
    }
   ],
   "source": [
    "wcount = Counter()\n",
    "filtered_words= [word for word in clean_list[2].split() if word not in stopwords and len(word) > 2]  \n",
    "wcount.update(filtered_words)\n",
    "print(wcount.most_common(5))\n"
   ]
  },
  {
   "cell_type": "code",
   "execution_count": 22,
   "metadata": {},
   "outputs": [],
   "source": [
    "stopwords = nltk.corpus.stopwords.words('english') \n",
    "stemmer = nltk.stem.snowball.SnowballStemmer('english')\n",
    "\n",
    "def news_to_tokenized_words (text):\n",
    "    #  Basic text cleaning:  Lowering letter cases, and using alphabet without special characters.\n",
    "    clean_text = re.sub(\"[^a-zA-Z]\", \" \", text.lower().strip())\n",
    "    \n",
    "    #  Filtering out Stop Words and words that are less than 3 chars\n",
    "    filtered_words= [word for word in clean_text.split(\" \") if word not in stopwords and len(word) > 2]\n",
    "\n",
    "    #  Stemming \n",
    "    tokenized_words = [stemmer.stem(word) for word in filtered_words ]\n",
    "    \n",
    "    return tokenized_words"
   ]
  },
  {
   "cell_type": "code",
   "execution_count": 23,
   "metadata": {},
   "outputs": [],
   "source": [
    "raw_text_df.insert(raw_text_df.shape[1], 'clean_text', raw_text_df.raw_text.apply(news_to_tokenized_words))"
   ]
  },
  {
   "cell_type": "code",
   "execution_count": 24,
   "metadata": {},
   "outputs": [
    {
     "data": {
      "text/plain": [
       "['halo',\n",
       " 'sell',\n",
       " 'five',\n",
       " 'million',\n",
       " 'copi',\n",
       " 'microsoft',\n",
       " 'celebr',\n",
       " 'bumper',\n",
       " 'sale',\n",
       " 'xbox',\n",
       " 'sci',\n",
       " 'shooter',\n",
       " 'halo',\n",
       " 'game',\n",
       " 'sold',\n",
       " 'five',\n",
       " 'million',\n",
       " 'copi',\n",
       " 'worldwid',\n",
       " 'sinc',\n",
       " 'went',\n",
       " 'sale',\n",
       " 'mid',\n",
       " 'novemb',\n",
       " 'compani',\n",
       " 'said',\n",
       " 'halo',\n",
       " 'prove',\n",
       " 'popular',\n",
       " 'onlin',\n",
       " 'gamer',\n",
       " 'notch',\n",
       " 'record',\n",
       " 'million',\n",
       " 'hour',\n",
       " 'play',\n",
       " 'game',\n",
       " 'xbox',\n",
       " 'live',\n",
       " 'accord',\n",
       " 'microsoft',\n",
       " 'nine',\n",
       " 'xbox',\n",
       " 'live',\n",
       " 'member',\n",
       " 'play',\n",
       " 'game',\n",
       " 'averag',\n",
       " 'minut',\n",
       " 'per',\n",
       " 'session',\n",
       " 'sequel',\n",
       " 'best',\n",
       " 'sell',\n",
       " 'need',\n",
       " 'speed',\n",
       " 'underground',\n",
       " 'inch',\n",
       " 'ahead',\n",
       " 'competit',\n",
       " 'take',\n",
       " 'top',\n",
       " 'slot',\n",
       " 'offici',\n",
       " 'game',\n",
       " 'chart',\n",
       " 'race',\n",
       " 'game',\n",
       " 'move',\n",
       " 'one',\n",
       " 'spot',\n",
       " 'first',\n",
       " 'place',\n",
       " 'nudg',\n",
       " 'gta',\n",
       " 'san',\n",
       " 'andrea',\n",
       " 'second',\n",
       " 'place',\n",
       " 'halo',\n",
       " 'drop',\n",
       " 'one',\n",
       " 'place',\n",
       " 'five',\n",
       " 'half',\n",
       " 'life',\n",
       " 'fell',\n",
       " 'number',\n",
       " 'nine',\n",
       " 'last',\n",
       " 'week',\n",
       " 'new',\n",
       " 'releas',\n",
       " 'goldeney',\n",
       " 'rogu',\n",
       " 'agent',\n",
       " 'killzon',\n",
       " 'fail',\n",
       " 'make',\n",
       " 'top',\n",
       " 'debut',\n",
       " 'number',\n",
       " 'respect',\n",
       " 'record',\n",
       " 'number',\n",
       " 'warcraft',\n",
       " 'fan',\n",
       " 'settl',\n",
       " 'game',\n",
       " 'onlin',\n",
       " 'world',\n",
       " 'open',\n",
       " 'day',\n",
       " 'world',\n",
       " 'warcraft',\n",
       " 'massiv',\n",
       " 'multi',\n",
       " 'player',\n",
       " 'onlin',\n",
       " 'game',\n",
       " 'player',\n",
       " 'sign',\n",
       " 'play',\n",
       " 'even',\n",
       " 'first',\n",
       " 'day',\n",
       " 'player',\n",
       " 'world',\n",
       " 'forc',\n",
       " 'blizzard',\n",
       " 'add',\n",
       " 'anoth',\n",
       " 'server',\n",
       " 'cope',\n",
       " 'influx',\n",
       " 'onlin',\n",
       " 'game',\n",
       " 'turn',\n",
       " 'stand',\n",
       " 'alon',\n",
       " 'warcraft',\n",
       " 'game',\n",
       " 'persist',\n",
       " 'world',\n",
       " 'player',\n",
       " 'inhabit',\n",
       " 'visit',\n",
       " 'europ',\n",
       " 'gamer',\n",
       " 'could',\n",
       " 'wait',\n",
       " 'januari',\n",
       " 'hear',\n",
       " 'get',\n",
       " 'mitt',\n",
       " 'nintendo',\n",
       " 'handheld',\n",
       " 'devic',\n",
       " 'nintendo',\n",
       " 'say',\n",
       " 'gamesindustri',\n",
       " 'biz',\n",
       " 'david',\n",
       " 'yarnton',\n",
       " 'nintendo',\n",
       " 'general',\n",
       " 'manag',\n",
       " 'told',\n",
       " 'press',\n",
       " 'confer',\n",
       " 'look',\n",
       " 'detail',\n",
       " 'new',\n",
       " 'year',\n",
       " 'launch',\n",
       " 'sunday',\n",
       " 'goe',\n",
       " 'sale',\n",
       " 'japan',\n",
       " 'decemb',\n",
       " 'nintendo',\n",
       " 'share',\n",
       " 'handheld',\n",
       " 'game',\n",
       " 'market',\n",
       " 'said',\n",
       " 'expect',\n",
       " 'sell',\n",
       " 'around',\n",
       " 'five',\n",
       " 'million',\n",
       " 'march']"
      ]
     },
     "execution_count": 24,
     "metadata": {},
     "output_type": "execute_result"
    }
   ],
   "source": [
    "#The tokenized list looks ok\n",
    "raw_text_df.clean_text[1]"
   ]
  },
  {
   "cell_type": "code",
   "execution_count": 28,
   "metadata": {},
   "outputs": [
    {
     "name": "stdout",
     "output_type": "stream",
     "text": [
      "Dictionary(18656 unique tokens: ['absent', 'addit', 'artifici', 'award', 'bag']...)\n"
     ]
    }
   ],
   "source": [
    "dictionary = corpora.Dictionary(raw_text_df.clean_text)\n",
    "print(dictionary)\n"
   ]
  },
  {
   "cell_type": "code",
   "execution_count": 29,
   "metadata": {},
   "outputs": [],
   "source": [
    "corpus=[dictionary.doc2bow(doc) for doc in raw_text_df.clean_text]"
   ]
  },
  {
   "cell_type": "code",
   "execution_count": 30,
   "metadata": {},
   "outputs": [
    {
     "name": "stdout",
     "output_type": "stream",
     "text": [
      "Wall time: 7.74 s\n"
     ]
    }
   ],
   "source": [
    "%%time\n",
    "ldamodel=gensim.models.LdaMulticore(corpus, num_topics=len(CATEGORIES), id2word=dictionary)\n"
   ]
  },
  {
   "cell_type": "code",
   "execution_count": 31,
   "metadata": {},
   "outputs": [
    {
     "name": "stdout",
     "output_type": "stream",
     "text": [
      "[(0, '0.012*\"said\" + 0.006*\"year\" + 0.005*\"would\" + 0.005*\"also\" + 0.004*\"new\" + 0.004*\"use\" + 0.004*\"game\" + 0.004*\"win\" + 0.004*\"first\" + 0.004*\"say\" + 0.003*\"like\" + 0.003*\"peopl\" + 0.003*\"could\" + 0.003*\"make\" + 0.003*\"play\" + 0.003*\"one\" + 0.003*\"get\" + 0.003*\"take\" + 0.003*\"two\" + 0.003*\"week\" + 0.003*\"time\" + 0.003*\"last\" + 0.003*\"world\" + 0.003*\"show\" + 0.002*\"want\"'), (1, '0.019*\"said\" + 0.007*\"year\" + 0.006*\"would\" + 0.005*\"one\" + 0.005*\"peopl\" + 0.004*\"also\" + 0.004*\"game\" + 0.004*\"time\" + 0.003*\"use\" + 0.003*\"say\" + 0.003*\"film\" + 0.003*\"last\" + 0.003*\"could\" + 0.003*\"new\" + 0.003*\"get\" + 0.003*\"make\" + 0.003*\"govern\" + 0.003*\"two\" + 0.003*\"servic\" + 0.003*\"month\" + 0.003*\"work\" + 0.002*\"firm\" + 0.002*\"market\" + 0.002*\"plan\" + 0.002*\"back\"'), (2, '0.012*\"said\" + 0.006*\"year\" + 0.006*\"would\" + 0.005*\"also\" + 0.005*\"one\" + 0.004*\"peopl\" + 0.004*\"world\" + 0.004*\"game\" + 0.004*\"time\" + 0.003*\"make\" + 0.003*\"play\" + 0.003*\"back\" + 0.003*\"say\" + 0.003*\"first\" + 0.003*\"new\" + 0.003*\"use\" + 0.003*\"like\" + 0.003*\"two\" + 0.003*\"number\" + 0.003*\"good\" + 0.003*\"last\" + 0.002*\"take\" + 0.002*\"firm\" + 0.002*\"could\" + 0.002*\"way\"'), (3, '0.017*\"said\" + 0.007*\"year\" + 0.005*\"new\" + 0.004*\"peopl\" + 0.004*\"film\" + 0.004*\"one\" + 0.004*\"govern\" + 0.004*\"also\" + 0.003*\"last\" + 0.003*\"could\" + 0.003*\"music\" + 0.003*\"compani\" + 0.003*\"would\" + 0.003*\"like\" + 0.003*\"sale\" + 0.003*\"show\" + 0.002*\"say\" + 0.002*\"time\" + 0.002*\"work\" + 0.002*\"market\" + 0.002*\"use\" + 0.002*\"bbc\" + 0.002*\"world\" + 0.002*\"take\" + 0.002*\"plan\"'), (4, '0.013*\"said\" + 0.008*\"year\" + 0.006*\"would\" + 0.005*\"peopl\" + 0.004*\"time\" + 0.004*\"also\" + 0.004*\"new\" + 0.004*\"say\" + 0.004*\"one\" + 0.004*\"game\" + 0.003*\"could\" + 0.003*\"first\" + 0.003*\"use\" + 0.003*\"two\" + 0.003*\"get\" + 0.003*\"take\" + 0.003*\"make\" + 0.003*\"last\" + 0.002*\"show\" + 0.002*\"want\" + 0.002*\"elect\" + 0.002*\"compani\" + 0.002*\"best\" + 0.002*\"three\" + 0.002*\"govern\"')]\n"
     ]
    }
   ],
   "source": [
    "print(ldamodel.print_topics(num_topics=len(CATEGORIES), num_words=25))"
   ]
  },
  {
   "cell_type": "code",
   "execution_count": 32,
   "metadata": {},
   "outputs": [
    {
     "name": "stdout",
     "output_type": "stream",
     "text": [
      "\n",
      "Topic 1, top 25 words:\n",
      "said year would also new use game win first say like peopl could make play one get take two week time last world show want\n",
      "\n",
      "Topic 2, top 25 words:\n",
      "said year would one peopl also game time use say film last could new get make govern two servic month work firm market plan back\n",
      "\n",
      "Topic 3, top 25 words:\n",
      "said year would also one peopl world game time make play back say first new use like two number good last take firm could way\n",
      "\n",
      "Topic 4, top 25 words:\n",
      "said year new peopl film one govern also last could music compani would like sale show say time work market use bbc world take plan\n",
      "\n",
      "Topic 5, top 25 words:\n",
      "said year would peopl time also new say one game could first use two get take make last show want elect compani best three govern\n"
     ]
    }
   ],
   "source": [
    "topics = ldamodel.show_topics(formatted=False, num_words=25)\n",
    "    \n",
    "for t in range(len(topics)):\n",
    "    print(\"\\nTopic {}, top {} words:\".format(t+1,25))\n",
    "    print(\" \".join([w[0] for w in topics[t][1]]))"
   ]
  },
  {
   "cell_type": "code",
   "execution_count": null,
   "metadata": {},
   "outputs": [],
   "source": []
  }
 ],
 "metadata": {
  "kernelspec": {
   "display_name": "Python 3",
   "language": "python",
   "name": "python3"
  },
  "language_info": {
   "codemirror_mode": {
    "name": "ipython",
    "version": 3
   },
   "file_extension": ".py",
   "mimetype": "text/x-python",
   "name": "python",
   "nbconvert_exporter": "python",
   "pygments_lexer": "ipython3",
   "version": "3.6.4"
  }
 },
 "nbformat": 4,
 "nbformat_minor": 2
}
